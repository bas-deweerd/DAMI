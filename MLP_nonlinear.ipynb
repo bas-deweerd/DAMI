{
 "cells": [
  {
   "cell_type": "markdown",
   "metadata": {},
   "source": [
    "# Multi Level Perceptron (MLP)\n"
   ]
  },
  {
   "cell_type": "markdown",
   "metadata": {},
   "source": [
    "# Exercise\n",
    "This exercise is about showing the powerful non-linear decision surface (or line in 2D \n",
    "problems) of a trained MLP. As seen in the XOR case a lot of classification problems cannot be solved with a \n",
    "linear classifier as the perceptron or the linear Support Vector machine (SVM). \n",
    "\n",
    "Please follow the following steps.\n",
    "1. Use the data set in the $perceptron0.ipnb$ notebook as a basis.\n",
    "2. Extend it with few samples such that it cannot be separated linearly.\n",
    "3. Use a simple MLP with 2 neurons in the hidden layer, check http://scikit-learn.org/stable/modules/generated/sklearn.neural_network.MLPClassifier.html\n",
    "    for details.\n",
    "4. Use the 2D mesh grid to visualise the decision surface.\n",
    "5. Extent the data set with even more difficult to separate samples and increase the number \n",
    "of hidden neurons to solve this. Again use the 2D mesh grid to visualise the results. Why is this in general not \n",
    "a good idea?\n",
    "\n",
    "\n",
    "Exercise 1: Use the data set in the $perceptron0.ipnb$ notebook as a basis."
   ]
  },
  {
   "cell_type": "code",
   "execution_count": 1,
   "metadata": {},
   "outputs": [],
   "source": [
    "#importing needed libraries\n",
    "import numpy as np\n",
    "from sklearn.neural_network import MLPClassifier\n",
    "import matplotlib.pyplot as plt\n",
    "%matplotlib inline"
   ]
  },
  {
   "cell_type": "markdown",
   "metadata": {},
   "source": [
    "### Data set"
   ]
  },
  {
   "cell_type": "code",
   "execution_count": 6,
   "metadata": {
    "scrolled": true
   },
   "outputs": [
    {
     "name": "stdout",
     "output_type": "stream",
     "text": [
      "X type:  <class 'numpy.ndarray'> , X dimensions:  (14, 2)\n",
      "y type:  <class 'numpy.ndarray'> , y dimensions:  (14,)\n"
     ]
    },
    {
     "data": {
      "text/plain": [
       "<matplotlib.collections.PathCollection at 0x7fadfe51bac8>"
      ]
     },
     "execution_count": 6,
     "metadata": {},
     "output_type": "execute_result"
    },
    {
     "data": {
      "image/png": "[encoded data removed]",
      "text/plain": [
       "<Figure size 432x288 with 1 Axes>"
      ]
     },
     "metadata": {
      "needs_background": "light"
     },
     "output_type": "display_data"
    }
   ],
   "source": [
    "# Data\n",
    "d = np.array([\n",
    "[2, 1, 2, 5, 7, 2, 3, 6, 1, 2, 5, 4, 6, 5],\n",
    "[2, 3, 3, 3, 3, 4, 4, 4, 5, 5, 5, 6, 6, 7]\n",
    "])\n",
    " \n",
    "# Labels\n",
    "t = np.array([0, 0, 0, 1, 1, 0, 0, 1, 0, 0, 1, 1, 1, 1])\n",
    "d90 = np.rot90(d)\n",
    "d180 = np.rot90(d90)\n",
    "d270 = np.rot90(d180)\n",
    "\n",
    "#check dimensions\n",
    "print(\"X type: \", type(d270), \", X dimensions: \", d270.shape)\n",
    "print(\"y type: \", type(t), \", y dimensions: \", t.shape)\n",
    "\n",
    "# Plot\n",
    "colormap = np.array(['r', 'b'])\n",
    "plt.scatter(d[0], d[1], c=colormap[t], s=500)"
   ]
  },
  {
   "cell_type": "markdown",
   "metadata": {
    "collapsed": true
   },
   "source": [
    "### Set up and Train MLP"
   ]
  },
  {
   "cell_type": "code",
   "execution_count": 8,
   "metadata": {},
   "outputs": [
    {
     "name": "stdout",
     "output_type": "stream",
     "text": [
      "Iteration 1, loss = 0.69726285\n",
      "Iteration 2, loss = 0.66021384\n",
      "Iteration 3, loss = 0.63818508\n",
      "Iteration 4, loss = 0.62193636\n",
      "Iteration 5, loss = 0.60129123\n",
      "Iteration 6, loss = 0.56896285\n",
      "Iteration 7, loss = 0.52941035\n",
      "Iteration 8, loss = 0.48528069\n",
      "Iteration 9, loss = 0.45367963\n",
      "Iteration 10, loss = 0.44217803\n",
      "Iteration 11, loss = 0.43884683\n",
      "Iteration 12, loss = 0.42735010\n",
      "Iteration 13, loss = 0.40835780\n",
      "Iteration 14, loss = 0.38624135\n",
      "Iteration 15, loss = 0.36391449\n",
      "Iteration 16, loss = 0.34166065\n",
      "Iteration 17, loss = 0.32314808\n",
      "Iteration 18, loss = 0.30990601\n",
      "Iteration 19, loss = 0.29612628\n",
      "Iteration 20, loss = 0.28418292\n",
      "Iteration 21, loss = 0.27080890\n",
      "Iteration 22, loss = 0.25173862\n",
      "Iteration 23, loss = 0.23276962\n",
      "Iteration 24, loss = 0.21487144\n",
      "Iteration 25, loss = 0.19779070\n",
      "Iteration 26, loss = 0.18464532\n",
      "Iteration 27, loss = 0.17082673\n",
      "Iteration 28, loss = 0.15621809\n",
      "Iteration 29, loss = 0.14249482\n",
      "Iteration 30, loss = 0.12785943\n",
      "Iteration 31, loss = 0.11491564\n",
      "Iteration 32, loss = 0.10504462\n",
      "Iteration 33, loss = 0.09561184\n",
      "Iteration 34, loss = 0.08814451\n",
      "Iteration 35, loss = 0.08102494\n",
      "Iteration 36, loss = 0.07341070\n",
      "Iteration 37, loss = 0.06696117\n",
      "Iteration 38, loss = 0.06089206\n",
      "Iteration 39, loss = 0.05560346\n",
      "Iteration 40, loss = 0.05166942\n",
      "Iteration 41, loss = 0.04801150\n",
      "Iteration 42, loss = 0.04462520\n",
      "Iteration 43, loss = 0.04142638\n",
      "Iteration 44, loss = 0.03810895\n",
      "Iteration 45, loss = 0.03518001\n",
      "Iteration 46, loss = 0.03270588\n",
      "Iteration 47, loss = 0.03051605\n",
      "Iteration 48, loss = 0.02872296\n",
      "Iteration 49, loss = 0.02710518\n",
      "Iteration 50, loss = 0.02546549\n",
      "Iteration 51, loss = 0.02394346\n",
      "Iteration 52, loss = 0.02251651\n",
      "Iteration 53, loss = 0.02114609\n",
      "Iteration 54, loss = 0.01996378\n",
      "Iteration 55, loss = 0.01896881\n",
      "Iteration 56, loss = 0.01804817\n",
      "Iteration 57, loss = 0.01720851\n",
      "Iteration 58, loss = 0.01646169\n",
      "Iteration 59, loss = 0.01573722\n",
      "Iteration 60, loss = 0.01501908\n",
      "Iteration 61, loss = 0.01435836\n",
      "Iteration 62, loss = 0.01376197\n",
      "Iteration 63, loss = 0.01320411\n",
      "Iteration 64, loss = 0.01269447\n",
      "Iteration 65, loss = 0.01224676\n",
      "Iteration 66, loss = 0.01183823\n",
      "Iteration 67, loss = 0.01144505\n",
      "Iteration 68, loss = 0.01107064\n",
      "Iteration 69, loss = 0.01072052\n",
      "Iteration 70, loss = 0.01038587\n",
      "Iteration 71, loss = 0.01006283\n",
      "Iteration 72, loss = 0.00976067\n",
      "Iteration 73, loss = 0.00948443\n",
      "Iteration 74, loss = 0.00922796\n",
      "Iteration 75, loss = 0.00898578\n",
      "Iteration 76, loss = 0.00875865\n",
      "Iteration 77, loss = 0.00854600\n",
      "Iteration 78, loss = 0.00834259\n",
      "Iteration 79, loss = 0.00814488\n",
      "Iteration 80, loss = 0.00795456\n",
      "Iteration 81, loss = 0.00777382\n",
      "Iteration 82, loss = 0.00760179\n",
      "Iteration 83, loss = 0.00743699\n",
      "Iteration 84, loss = 0.00728000\n",
      "Iteration 85, loss = 0.00713176\n",
      "Iteration 86, loss = 0.00699119\n",
      "Iteration 87, loss = 0.00685610\n",
      "Iteration 88, loss = 0.00672555\n",
      "Iteration 89, loss = 0.00659983\n",
      "Iteration 90, loss = 0.00647884\n",
      "Iteration 91, loss = 0.00636173\n",
      "Iteration 92, loss = 0.00624801\n",
      "Iteration 93, loss = 0.00613811\n",
      "Iteration 94, loss = 0.00603249\n",
      "Iteration 95, loss = 0.00593089\n",
      "Iteration 96, loss = 0.00583271\n",
      "Iteration 97, loss = 0.00573768\n",
      "Iteration 98, loss = 0.00564586\n",
      "Iteration 99, loss = 0.00555708\n",
      "Iteration 100, loss = 0.00547089\n",
      "Iteration 101, loss = 0.00538692\n",
      "Iteration 102, loss = 0.00530515\n",
      "Iteration 103, loss = 0.00522568\n",
      "Iteration 104, loss = 0.00514845\n",
      "Iteration 105, loss = 0.00507329\n",
      "Iteration 106, loss = 0.00500010\n",
      "Training loss did not improve more than tol=0.000100 for 10 consecutive epochs. Stopping.\n"
     ]
    },
    {
     "data": {
      "text/plain": [
       "MLPClassifier(activation='tanh', alpha=0.0001, batch_size='auto', beta_1=0.9,\n",
       "       beta_2=0.999, early_stopping=False, epsilon=1e-08,\n",
       "       hidden_layer_sizes=(2,), learning_rate='constant',\n",
       "       learning_rate_init=0.08, max_iter=200, momentum=0.9,\n",
       "       n_iter_no_change=10, nesterovs_momentum=True, power_t=0.5,\n",
       "       random_state=1, shuffle=True, solver='adam', tol=0.0001,\n",
       "       validation_fraction=0.1, verbose=True, warm_start=False)"
      ]
     },
     "execution_count": 8,
     "metadata": {},
     "output_type": "execute_result"
    }
   ],
   "source": [
    "#2 neurons for the hidden layer, fully connected\n",
    "#activation function: 'relu', but could be 'tanh' as well. Sigmoid function 'logistic' is not working here\n",
    "#verbose = True stands for showing iteration steps\n",
    "mlp = MLPClassifier(hidden_layer_sizes=(2,), verbose=True, activation='tanh', \n",
    "                    learning_rate_init = 0.08, random_state=1)\n",
    "#training the model\n",
    "mlp.fit(d270, t)"
   ]
  },
  {
   "cell_type": "code",
   "execution_count": 9,
   "metadata": {},
   "outputs": [
    {
     "name": "stdout",
     "output_type": "stream",
     "text": [
      "Absolute training score: 1.0\n",
      "predictions: [0 0 0 1 1 0 0 1 0 0 1 1 1 1]\n",
      "expected: [0 0 0 1 1 0 0 1 0 0 1 1 1 1]\n"
     ]
    }
   ],
   "source": [
    "print('Absolute training score:', mlp.score(d270, t))\n",
    "print('predictions:', mlp.predict(d270)) \n",
    "print('expected:', t)"
   ]
  },
  {
   "cell_type": "markdown",
   "metadata": {},
   "source": [
    "### Interrogate the trained network"
   ]
  },
  {
   "cell_type": "code",
   "execution_count": 10,
   "metadata": {},
   "outputs": [
    {
     "data": {
      "text/plain": [
       "<matplotlib.image.AxesImage at 0x7fadfe4178d0>"
      ]
     },
     "execution_count": 10,
     "metadata": {},
     "output_type": "execute_result"
    },
    {
     "data": {
      "image/png": "[encoded data removed]",
      "text/plain": [
       "<Figure size 432x288 with 1 Axes>"
      ]
     },
     "metadata": {
      "needs_background": "light"
     },
     "output_type": "display_data"
    }
   ],
   "source": [
    "#Create a 2D mesh and interrogate the trained network\n",
    "PITCH = 0.1\n",
    "x = np.arange(0, 10, PITCH)\n",
    "y = np.arange(0, 10, PITCH)\n",
    "#print(x)\n",
    "crds = np.meshgrid(x, y, sparse=False, indexing='ij')\n",
    "flatX = np.ravel(crds[0])\n",
    "flatY = np.ravel(crds[1])\n",
    "test = np.column_stack((flatX,flatY))\n",
    "plt.imshow(mlp.predict(test).reshape((100,100)), origin = 'lower')"
   ]
  },
  {
   "cell_type": "code",
   "execution_count": 11,
   "metadata": {},
   "outputs": [
    {
     "data": {
      "text/plain": [
       "<matplotlib.collections.PathCollection at 0x7fadfdb70278>"
      ]
     },
     "execution_count": 11,
     "metadata": {},
     "output_type": "execute_result"
    },
    {
     "data": {
      "image/png": "[encoded data removed]",
      "text/plain": [
       "<Figure size 432x288 with 1 Axes>"
      ]
     },
     "metadata": {
      "needs_background": "light"
     },
     "output_type": "display_data"
    }
   ],
   "source": [
    "# Plot\n",
    "colormap = np.array(['r', 'b'])\n",
    "plt.scatter(d[0], d[1], c=colormap[t], s=500)"
   ]
  },
  {
   "cell_type": "markdown",
   "metadata": {},
   "source": [
    "## Exercise 2. Extend it with few samples such that it cannot be separated linearly.\n"
   ]
  },
  {
   "cell_type": "code",
   "execution_count": 14,
   "metadata": {},
   "outputs": [
    {
     "name": "stdout",
     "output_type": "stream",
     "text": [
      "X type:  <class 'numpy.ndarray'> , X dimensions:  (15, 2)\n",
      "y type:  <class 'numpy.ndarray'> , y dimensions:  (15,)\n"
     ]
    },
    {
     "ename": "ValueError",
     "evalue": "'c' argument has 14 elements, which is not acceptable for use with 'x' with size 15, 'y' with size 15.",
     "output_type": "error",
     "traceback": [
      "\u001b[0;31m---------------------------------------------------------------------------\u001b[0m",
      "\u001b[0;31mValueError\u001b[0m                                Traceback (most recent call last)",
      "\u001b[0;32m~/anaconda3/lib/python3.7/site-packages/matplotlib/axes/_axes.py\u001b[0m in \u001b[0;36mscatter\u001b[0;34m(self, x, y, s, c, marker, cmap, norm, vmin, vmax, alpha, linewidths, verts, edgecolors, **kwargs)\u001b[0m\n\u001b[1;32m   4237\u001b[0m                     \u001b[0mvalid_shape\u001b[0m \u001b[0;34m=\u001b[0m \u001b[0;32mFalse\u001b[0m\u001b[0;34m\u001b[0m\u001b[0;34m\u001b[0m\u001b[0m\n\u001b[0;32m-> 4238\u001b[0;31m                     \u001b[0;32mraise\u001b[0m \u001b[0mValueError\u001b[0m\u001b[0;34m\u001b[0m\u001b[0;34m\u001b[0m\u001b[0m\n\u001b[0m\u001b[1;32m   4239\u001b[0m             \u001b[0;32mexcept\u001b[0m \u001b[0mValueError\u001b[0m\u001b[0;34m:\u001b[0m\u001b[0;34m\u001b[0m\u001b[0;34m\u001b[0m\u001b[0m\n",
      "\u001b[0;31mValueError\u001b[0m: ",
      "\nDuring handling of the above exception, another exception occurred:\n",
      "\u001b[0;31mValueError\u001b[0m                                Traceback (most recent call last)",
      "\u001b[0;32m<ipython-input-14-ef713bf99530>\u001b[0m in \u001b[0;36m<module>\u001b[0;34m\u001b[0m\n\u001b[1;32m     17\u001b[0m \u001b[0;31m# Plot\u001b[0m\u001b[0;34m\u001b[0m\u001b[0;34m\u001b[0m\u001b[0;34m\u001b[0m\u001b[0m\n\u001b[1;32m     18\u001b[0m \u001b[0mcolormap\u001b[0m \u001b[0;34m=\u001b[0m \u001b[0mnp\u001b[0m\u001b[0;34m.\u001b[0m\u001b[0marray\u001b[0m\u001b[0;34m(\u001b[0m\u001b[0;34m[\u001b[0m\u001b[0;34m'r'\u001b[0m\u001b[0;34m,\u001b[0m \u001b[0;34m'b'\u001b[0m\u001b[0;34m]\u001b[0m\u001b[0;34m)\u001b[0m\u001b[0;34m\u001b[0m\u001b[0;34m\u001b[0m\u001b[0m\n\u001b[0;32m---> 19\u001b[0;31m \u001b[0mplt\u001b[0m\u001b[0;34m.\u001b[0m\u001b[0mscatter\u001b[0m\u001b[0;34m(\u001b[0m\u001b[0mdnew\u001b[0m\u001b[0;34m[\u001b[0m\u001b[0;36m0\u001b[0m\u001b[0;34m]\u001b[0m\u001b[0;34m,\u001b[0m \u001b[0mdnew\u001b[0m\u001b[0;34m[\u001b[0m\u001b[0;36m1\u001b[0m\u001b[0;34m]\u001b[0m\u001b[0;34m,\u001b[0m \u001b[0mc\u001b[0m\u001b[0;34m=\u001b[0m\u001b[0mcolormap\u001b[0m\u001b[0;34m[\u001b[0m\u001b[0mt\u001b[0m\u001b[0;34m]\u001b[0m\u001b[0;34m,\u001b[0m \u001b[0ms\u001b[0m\u001b[0;34m=\u001b[0m\u001b[0;36m500\u001b[0m\u001b[0;34m)\u001b[0m\u001b[0;34m\u001b[0m\u001b[0;34m\u001b[0m\u001b[0m\n\u001b[0m",
      "\u001b[0;32m~/anaconda3/lib/python3.7/site-packages/matplotlib/pyplot.py\u001b[0m in \u001b[0;36mscatter\u001b[0;34m(x, y, s, c, marker, cmap, norm, vmin, vmax, alpha, linewidths, verts, edgecolors, data, **kwargs)\u001b[0m\n\u001b[1;32m   2860\u001b[0m         \u001b[0mvmin\u001b[0m\u001b[0;34m=\u001b[0m\u001b[0mvmin\u001b[0m\u001b[0;34m,\u001b[0m \u001b[0mvmax\u001b[0m\u001b[0;34m=\u001b[0m\u001b[0mvmax\u001b[0m\u001b[0;34m,\u001b[0m \u001b[0malpha\u001b[0m\u001b[0;34m=\u001b[0m\u001b[0malpha\u001b[0m\u001b[0;34m,\u001b[0m \u001b[0mlinewidths\u001b[0m\u001b[0;34m=\u001b[0m\u001b[0mlinewidths\u001b[0m\u001b[0;34m,\u001b[0m\u001b[0;34m\u001b[0m\u001b[0;34m\u001b[0m\u001b[0m\n\u001b[1;32m   2861\u001b[0m         verts=verts, edgecolors=edgecolors, **({\"data\": data} if data\n\u001b[0;32m-> 2862\u001b[0;31m         is not None else {}), **kwargs)\n\u001b[0m\u001b[1;32m   2863\u001b[0m     \u001b[0msci\u001b[0m\u001b[0;34m(\u001b[0m\u001b[0m__ret\u001b[0m\u001b[0;34m)\u001b[0m\u001b[0;34m\u001b[0m\u001b[0;34m\u001b[0m\u001b[0m\n\u001b[1;32m   2864\u001b[0m     \u001b[0;32mreturn\u001b[0m \u001b[0m__ret\u001b[0m\u001b[0;34m\u001b[0m\u001b[0;34m\u001b[0m\u001b[0m\n",
      "\u001b[0;32m~/anaconda3/lib/python3.7/site-packages/matplotlib/__init__.py\u001b[0m in \u001b[0;36minner\u001b[0;34m(ax, data, *args, **kwargs)\u001b[0m\n\u001b[1;32m   1808\u001b[0m                         \u001b[0;34m\"the Matplotlib list!)\"\u001b[0m \u001b[0;34m%\u001b[0m \u001b[0;34m(\u001b[0m\u001b[0mlabel_namer\u001b[0m\u001b[0;34m,\u001b[0m \u001b[0mfunc\u001b[0m\u001b[0;34m.\u001b[0m\u001b[0m__name__\u001b[0m\u001b[0;34m)\u001b[0m\u001b[0;34m,\u001b[0m\u001b[0;34m\u001b[0m\u001b[0;34m\u001b[0m\u001b[0m\n\u001b[1;32m   1809\u001b[0m                         RuntimeWarning, stacklevel=2)\n\u001b[0;32m-> 1810\u001b[0;31m             \u001b[0;32mreturn\u001b[0m \u001b[0mfunc\u001b[0m\u001b[0;34m(\u001b[0m\u001b[0max\u001b[0m\u001b[0;34m,\u001b[0m \u001b[0;34m*\u001b[0m\u001b[0margs\u001b[0m\u001b[0;34m,\u001b[0m \u001b[0;34m**\u001b[0m\u001b[0mkwargs\u001b[0m\u001b[0;34m)\u001b[0m\u001b[0;34m\u001b[0m\u001b[0;34m\u001b[0m\u001b[0m\n\u001b[0m\u001b[1;32m   1811\u001b[0m \u001b[0;34m\u001b[0m\u001b[0m\n\u001b[1;32m   1812\u001b[0m         inner.__doc__ = _add_data_doc(inner.__doc__,\n",
      "\u001b[0;32m~/anaconda3/lib/python3.7/site-packages/matplotlib/axes/_axes.py\u001b[0m in \u001b[0;36mscatter\u001b[0;34m(self, x, y, s, c, marker, cmap, norm, vmin, vmax, alpha, linewidths, verts, edgecolors, **kwargs)\u001b[0m\n\u001b[1;32m   4243\u001b[0m                         \u001b[0;34m\"acceptable for use with 'x' with size {xs}, \"\u001b[0m\u001b[0;34m\u001b[0m\u001b[0;34m\u001b[0m\u001b[0m\n\u001b[1;32m   4244\u001b[0m                         \u001b[0;34m\"'y' with size {ys}.\"\u001b[0m\u001b[0;34m\u001b[0m\u001b[0;34m\u001b[0m\u001b[0m\n\u001b[0;32m-> 4245\u001b[0;31m                         \u001b[0;34m.\u001b[0m\u001b[0mformat\u001b[0m\u001b[0;34m(\u001b[0m\u001b[0mnc\u001b[0m\u001b[0;34m=\u001b[0m\u001b[0mn_elem\u001b[0m\u001b[0;34m,\u001b[0m \u001b[0mxs\u001b[0m\u001b[0;34m=\u001b[0m\u001b[0mx\u001b[0m\u001b[0;34m.\u001b[0m\u001b[0msize\u001b[0m\u001b[0;34m,\u001b[0m \u001b[0mys\u001b[0m\u001b[0;34m=\u001b[0m\u001b[0my\u001b[0m\u001b[0;34m.\u001b[0m\u001b[0msize\u001b[0m\u001b[0;34m)\u001b[0m\u001b[0;34m\u001b[0m\u001b[0;34m\u001b[0m\u001b[0m\n\u001b[0m\u001b[1;32m   4246\u001b[0m                     )\n\u001b[1;32m   4247\u001b[0m                 \u001b[0;31m# Both the mapping *and* the RGBA conversion failed: pretty\u001b[0m\u001b[0;34m\u001b[0m\u001b[0;34m\u001b[0m\u001b[0;34m\u001b[0m\u001b[0m\n",
      "\u001b[0;31mValueError\u001b[0m: 'c' argument has 14 elements, which is not acceptable for use with 'x' with size 15, 'y' with size 15."
     ]
    },
    {
     "data": {
      "image/png": "[encoded data removed]",
      "text/plain": [
       "<Figure size 432x288 with 1 Axes>"
      ]
     },
     "metadata": {
      "needs_background": "light"
     },
     "output_type": "display_data"
    }
   ],
   "source": [
    "# Add new RED sample inside data\n",
    "dnew = np.array([\n",
    "[2, 1, 2, 5, 7, 2, 3, 6, 1, 2, 5, 4, 6, 5, 5],              # new coord (5,4)\n",
    "[2, 3, 3, 3, 3, 4, 4, 4, 5, 5, 5, 6, 6, 7, 4]\n",
    "])\n",
    " \n",
    "# Labels\n",
    "tnew = np.array([0, 0, 0, 1, 1, 0, 0, 1, 0, 0, 1, 1, 1, 1, 0]) # and has red label ==0\n",
    "dnew90 = np.rot90(dnew)\n",
    "dnew180 = np.rot90(dnew90)\n",
    "dnew270 = np.rot90(dnew180)\n",
    "\n",
    "#check dimensions\n",
    "print(\"X type: \", type(dnew270), \", X dimensions: \", dnew270.shape)\n",
    "print(\"y type: \", type(tnew), \", y dimensions: \", tnew.shape)\n",
    "\n",
    "# Plot\n",
    "colormap = np.array(['r', 'b'])\n",
    "plt.scatter(dnew[0], dnew[1], c=colormap[t], s=500)"
   ]
  },
  {
   "cell_type": "markdown",
   "metadata": {},
   "source": [
    "## Exercise 3. Use a simple MLP with 2 neurons in the hidden layer"
   ]
  },
  {
   "cell_type": "markdown",
   "metadata": {},
   "source": [
    "### Set up and Train MLP with just 2 neurons in the hidden layer"
   ]
  },
  {
   "cell_type": "code",
   "execution_count": 9,
   "metadata": {},
   "outputs": [
    {
     "name": "stdout",
     "output_type": "stream",
     "text": [
      "Iteration 1, loss = 0.73674069\n",
      "Iteration 2, loss = 0.68788749\n",
      "Iteration 3, loss = 0.66170865\n",
      "Iteration 4, loss = 0.65593570\n",
      "Iteration 5, loss = 0.65118241\n",
      "Iteration 6, loss = 0.63824888\n",
      "Iteration 7, loss = 0.61684264\n",
      "Iteration 8, loss = 0.59199020\n",
      "Iteration 9, loss = 0.57450991\n",
      "Iteration 10, loss = 0.56112187\n",
      "Iteration 11, loss = 0.53527123\n",
      "Iteration 12, loss = 0.51303451\n",
      "Iteration 13, loss = 0.50457134\n",
      "Iteration 14, loss = 0.50370783\n",
      "Iteration 15, loss = 0.49246947\n",
      "Iteration 16, loss = 0.47687067\n",
      "Iteration 17, loss = 0.46885318\n",
      "Iteration 18, loss = 0.46470964\n",
      "Iteration 19, loss = 0.45772121\n",
      "Iteration 20, loss = 0.44501168\n",
      "Iteration 21, loss = 0.42678669\n",
      "Iteration 22, loss = 0.41011145\n",
      "Iteration 23, loss = 0.40260114\n",
      "Iteration 24, loss = 0.39650011\n",
      "Iteration 25, loss = 0.38495790\n",
      "Iteration 26, loss = 0.37306116\n",
      "Iteration 27, loss = 0.36578903\n",
      "Iteration 28, loss = 0.35724904\n",
      "Iteration 29, loss = 0.34374430\n",
      "Iteration 30, loss = 0.33197171\n",
      "Iteration 31, loss = 0.32466922\n",
      "Iteration 32, loss = 0.31768910\n",
      "Iteration 33, loss = 0.30956405\n",
      "Iteration 34, loss = 0.30224449\n",
      "Iteration 35, loss = 0.29604013\n",
      "Iteration 36, loss = 0.28909308\n",
      "Iteration 37, loss = 0.28155447\n",
      "Iteration 38, loss = 0.27534931\n",
      "Iteration 39, loss = 0.27071480\n",
      "Iteration 40, loss = 0.26651946\n",
      "Iteration 41, loss = 0.26238455\n",
      "Iteration 42, loss = 0.25852683\n",
      "Iteration 43, loss = 0.25471013\n",
      "Iteration 44, loss = 0.25061203\n",
      "Iteration 45, loss = 0.24656044\n",
      "Iteration 46, loss = 0.24298378\n",
      "Iteration 47, loss = 0.23980816\n",
      "Iteration 48, loss = 0.23676146\n",
      "Iteration 49, loss = 0.23371662\n",
      "Iteration 50, loss = 0.23060161\n",
      "Iteration 51, loss = 0.22727744\n",
      "Iteration 52, loss = 0.22367245\n",
      "Iteration 53, loss = 0.21989404\n",
      "Iteration 54, loss = 0.21607468\n",
      "Iteration 55, loss = 0.21227270\n",
      "Iteration 56, loss = 0.20862628\n",
      "Iteration 57, loss = 0.20536043\n",
      "Iteration 58, loss = 0.20249994\n",
      "Iteration 59, loss = 0.20002097\n",
      "Iteration 60, loss = 0.19807704\n",
      "Iteration 61, loss = 0.19653369\n",
      "Iteration 62, loss = 0.19520312\n",
      "Iteration 63, loss = 0.19403365\n",
      "Iteration 64, loss = 0.19280207\n",
      "Iteration 65, loss = 0.19151839\n",
      "Iteration 66, loss = 0.19015415\n",
      "Iteration 67, loss = 0.18865334\n",
      "Iteration 68, loss = 0.18711448\n",
      "Iteration 69, loss = 0.18548568\n",
      "Iteration 70, loss = 0.18391674\n",
      "Iteration 71, loss = 0.18243400\n",
      "Iteration 72, loss = 0.18115208\n",
      "Iteration 73, loss = 0.18005911\n",
      "Iteration 74, loss = 0.17918645\n",
      "Iteration 75, loss = 0.17847302\n",
      "Iteration 76, loss = 0.17789760\n",
      "Iteration 77, loss = 0.17736254\n",
      "Iteration 78, loss = 0.17686444\n",
      "Iteration 79, loss = 0.17632391\n",
      "Iteration 80, loss = 0.17576392\n",
      "Iteration 81, loss = 0.17514950\n",
      "Iteration 82, loss = 0.17451622\n",
      "Iteration 83, loss = 0.17388356\n",
      "Iteration 84, loss = 0.17326787\n",
      "Iteration 85, loss = 0.17271408\n",
      "Iteration 86, loss = 0.17221408\n",
      "Iteration 87, loss = 0.17178422\n",
      "Iteration 88, loss = 0.17140707\n",
      "Iteration 89, loss = 0.17105932\n",
      "Iteration 90, loss = 0.17073525\n",
      "Iteration 91, loss = 0.17040698\n",
      "Iteration 92, loss = 0.17007151\n",
      "Iteration 93, loss = 0.16972964\n",
      "Iteration 94, loss = 0.16937370\n",
      "Iteration 95, loss = 0.16901726\n",
      "Iteration 96, loss = 0.16866780\n",
      "Iteration 97, loss = 0.16832820\n",
      "Iteration 98, loss = 0.16801103\n",
      "Iteration 99, loss = 0.16771668\n",
      "Iteration 100, loss = 0.16743937\n",
      "Iteration 101, loss = 0.16717852\n",
      "Iteration 102, loss = 0.16692690\n",
      "Iteration 103, loss = 0.16667676\n",
      "Iteration 104, loss = 0.16642804\n",
      "Iteration 105, loss = 0.16617938\n",
      "Iteration 106, loss = 0.16592883\n",
      "Iteration 107, loss = 0.16567984\n",
      "Iteration 108, loss = 0.16543534\n",
      "Iteration 109, loss = 0.16519590\n",
      "Iteration 110, loss = 0.16496416\n",
      "Iteration 111, loss = 0.16474203\n",
      "Iteration 112, loss = 0.16452783\n",
      "Iteration 113, loss = 0.16431982\n",
      "Iteration 114, loss = 0.16411713\n",
      "Iteration 115, loss = 0.16391793\n",
      "Iteration 116, loss = 0.16372054\n",
      "Iteration 117, loss = 0.16352516\n",
      "Iteration 118, loss = 0.16333237\n",
      "Iteration 119, loss = 0.16314213\n",
      "Iteration 120, loss = 0.16295497\n",
      "Iteration 121, loss = 0.16277206\n",
      "Iteration 122, loss = 0.16259382\n",
      "Iteration 123, loss = 0.16242008\n",
      "Iteration 124, loss = 0.16225087\n",
      "Iteration 125, loss = 0.16208599\n",
      "Iteration 126, loss = 0.16192464\n",
      "Iteration 127, loss = 0.16176615\n",
      "Iteration 128, loss = 0.16161034\n",
      "Iteration 129, loss = 0.16145717\n",
      "Iteration 130, loss = 0.16130648\n",
      "Iteration 131, loss = 0.16115832\n",
      "Iteration 132, loss = 0.16101293\n",
      "Iteration 133, loss = 0.16087035\n",
      "Iteration 134, loss = 0.16073047\n",
      "Iteration 135, loss = 0.16059319\n",
      "Iteration 136, loss = 0.16045841\n",
      "Iteration 137, loss = 0.16032587\n",
      "Iteration 138, loss = 0.16019519\n",
      "Iteration 139, loss = 0.16006611\n",
      "Iteration 140, loss = 0.15993847\n",
      "Iteration 141, loss = 0.15981211\n",
      "Iteration 142, loss = 0.15968688\n",
      "Iteration 143, loss = 0.15956276\n",
      "Iteration 144, loss = 0.15943973\n",
      "Iteration 145, loss = 0.15931772\n",
      "Iteration 146, loss = 0.15919661\n",
      "Iteration 147, loss = 0.15907631\n",
      "Iteration 148, loss = 0.15895674\n",
      "Iteration 149, loss = 0.15883775\n",
      "Iteration 150, loss = 0.15871922\n",
      "Iteration 151, loss = 0.15860103\n",
      "Iteration 152, loss = 0.15848312\n",
      "Iteration 153, loss = 0.15836543\n",
      "Iteration 154, loss = 0.15824791\n",
      "Iteration 155, loss = 0.15813055\n",
      "Iteration 156, loss = 0.15801332\n",
      "Iteration 157, loss = 0.15789622\n",
      "Iteration 158, loss = 0.15777920\n",
      "Iteration 159, loss = 0.15766224\n",
      "Iteration 160, loss = 0.15754530\n",
      "Iteration 161, loss = 0.15742836\n",
      "Iteration 162, loss = 0.15731137\n",
      "Iteration 163, loss = 0.15719431\n",
      "Iteration 164, loss = 0.15707716\n",
      "Iteration 165, loss = 0.15695992\n",
      "Iteration 166, loss = 0.15684256\n",
      "Iteration 167, loss = 0.15672508\n",
      "Iteration 168, loss = 0.15660749\n",
      "Iteration 169, loss = 0.15648978\n",
      "Iteration 170, loss = 0.15637194\n",
      "Iteration 171, loss = 0.15625398\n",
      "Iteration 172, loss = 0.15613588\n",
      "Iteration 173, loss = 0.15601763\n",
      "Iteration 174, loss = 0.15589925\n",
      "Iteration 175, loss = 0.15578071\n",
      "Iteration 176, loss = 0.15566202\n",
      "Iteration 177, loss = 0.15554319\n",
      "Iteration 178, loss = 0.15542422\n",
      "Iteration 179, loss = 0.15530511\n",
      "Iteration 180, loss = 0.15518586\n",
      "Iteration 181, loss = 0.15506648\n",
      "Iteration 182, loss = 0.15494697\n",
      "Iteration 183, loss = 0.15482732\n",
      "Iteration 184, loss = 0.15470754\n",
      "Iteration 185, loss = 0.15458763\n",
      "Iteration 186, loss = 0.15446758\n",
      "Iteration 187, loss = 0.15434740\n",
      "Iteration 188, loss = 0.15422707\n",
      "Iteration 189, loss = 0.15410662\n",
      "Iteration 190, loss = 0.15398602\n",
      "Iteration 191, loss = 0.15386528\n",
      "Iteration 192, loss = 0.15374440\n",
      "Iteration 193, loss = 0.15362338\n",
      "Iteration 194, loss = 0.15350222\n",
      "Iteration 195, loss = 0.15338091\n",
      "Iteration 196, loss = 0.15325945\n",
      "Iteration 197, loss = 0.15313784\n",
      "Iteration 198, loss = 0.15301607\n",
      "Iteration 199, loss = 0.15289416\n",
      "Iteration 200, loss = 0.15277209\n",
      "('Absolute training score:', 0.93333333333333335)\n",
      "('predictions:', array([0, 0, 0, 1, 1, 0, 0, 1, 0, 0, 1, 1, 1, 1, 1]))\n",
      "('expected:', array([0, 0, 0, 1, 1, 0, 0, 1, 0, 0, 1, 1, 1, 1, 0]))\n"
     ]
    },
    {
     "name": "stderr",
     "output_type": "stream",
     "text": [
      "C:\\Users\\Jan\\Anaconda2\\lib\\site-packages\\sklearn\\neural_network\\multilayer_perceptron.py:563: ConvergenceWarning: Stochastic Optimizer: Maximum iterations reached and the optimization hasn't converged yet.\n",
      "  % (), ConvergenceWarning)\n"
     ]
    }
   ],
   "source": [
    "#2 neurons for the hidden layer, fully connected\n",
    "#activation function: 'relu', but could be 'tanh' as well. Sigmoid function 'logistic' is not working here\n",
    "#verbose = True stands for showing iteration steps\n",
    "mlpnew = MLPClassifier(hidden_layer_sizes=(2,), verbose=True, activation='tanh', \n",
    "                    learning_rate_init = 0.08, random_state=1)\n",
    "#training the model\n",
    "mlpnew.fit(dnew270, tnew)\n",
    "\n",
    "print('Absolute training score:', mlp.score(dnew270, tnew))\n",
    "print('predictions:', mlp.predict(dnew270)) \n",
    "print('expected:', tnew)"
   ]
  },
  {
   "cell_type": "markdown",
   "metadata": {},
   "source": [
    "## Exercise 4. Use the 2D mesh grid to visualise the decision surface."
   ]
  },
  {
   "cell_type": "code",
   "execution_count": 10,
   "metadata": {},
   "outputs": [
    {
     "data": {
      "text/plain": [
       "<matplotlib.image.AxesImage at 0xab7c2e8>"
      ]
     },
     "execution_count": 10,
     "metadata": {},
     "output_type": "execute_result"
    },
    {
     "data": {
      "image/png": "[encoded data removed]",
      "text/plain": [
       "<matplotlib.figure.Figure at 0xa147f98>"
      ]
     },
     "metadata": {},
     "output_type": "display_data"
    }
   ],
   "source": [
    "#Create a 2D mesh and interrogate the trained network\n",
    "PITCH = 0.1\n",
    "x = np.arange(0, 10, PITCH)\n",
    "y = np.arange(0, 10, PITCH)\n",
    "#print(x)\n",
    "crds = np.meshgrid(x, y, sparse=False, indexing='ij')\n",
    "flatX = np.ravel(crds[0])\n",
    "flatY = np.ravel(crds[1])\n",
    "test = np.column_stack((flatX,flatY))\n",
    "plt.imshow(mlpnew.predict(test).reshape((100,100)), origin = 'lower')"
   ]
  },
  {
   "cell_type": "markdown",
   "metadata": {},
   "source": [
    "## Exercise 5. Extent the data set with even more difficult to separate samples and increase the number of hidden neurons to solve this. Why is this in general not a good idea?"
   ]
  },
  {
   "cell_type": "code",
   "execution_count": 13,
   "metadata": {},
   "outputs": [
    {
     "name": "stdout",
     "output_type": "stream",
     "text": [
      "Iteration 1, loss = 0.88686206\n",
      "Iteration 2, loss = 0.69779171\n",
      "Iteration 3, loss = 0.62231623\n",
      "Iteration 4, loss = 0.64007630\n",
      "Iteration 5, loss = 0.62837163\n",
      "Iteration 6, loss = 0.57898367\n",
      "Iteration 7, loss = 0.52602683\n",
      "Iteration 8, loss = 0.49825994\n",
      "Iteration 9, loss = 0.50210993\n",
      "Iteration 10, loss = 0.50298769\n",
      "Iteration 11, loss = 0.48282652\n",
      "Iteration 12, loss = 0.44740696\n",
      "Iteration 13, loss = 0.41128056\n",
      "Iteration 14, loss = 0.39123913\n",
      "Iteration 15, loss = 0.38942641\n",
      "Iteration 16, loss = 0.38287862\n",
      "Iteration 17, loss = 0.35905708\n",
      "Iteration 18, loss = 0.33236413\n",
      "Iteration 19, loss = 0.31828912\n",
      "Iteration 20, loss = 0.31484111\n",
      "Iteration 21, loss = 0.31212087\n",
      "Iteration 22, loss = 0.30459079\n",
      "Iteration 23, loss = 0.29334187\n",
      "Iteration 24, loss = 0.28287929\n",
      "Iteration 25, loss = 0.27684526\n",
      "Iteration 26, loss = 0.27396045\n",
      "Iteration 27, loss = 0.26940663\n",
      "Iteration 28, loss = 0.26212283\n",
      "Iteration 29, loss = 0.25604658\n",
      "Iteration 30, loss = 0.25336538\n",
      "Iteration 31, loss = 0.25209691\n",
      "Iteration 32, loss = 0.24957176\n",
      "Iteration 33, loss = 0.24525236\n",
      "Iteration 34, loss = 0.24069617\n",
      "Iteration 35, loss = 0.23755578\n",
      "Iteration 36, loss = 0.23547760\n",
      "Iteration 37, loss = 0.23260984\n",
      "Iteration 38, loss = 0.22845873\n",
      "Iteration 39, loss = 0.22444567\n",
      "Iteration 40, loss = 0.22157086\n",
      "Iteration 41, loss = 0.21920287\n",
      "Iteration 42, loss = 0.21620476\n",
      "Iteration 43, loss = 0.21268261\n",
      "Iteration 44, loss = 0.20957042\n",
      "Iteration 45, loss = 0.20677223\n",
      "Iteration 46, loss = 0.20327101\n",
      "Iteration 47, loss = 0.19947766\n",
      "Iteration 48, loss = 0.19647392\n",
      "Iteration 49, loss = 0.19318027\n",
      "Iteration 50, loss = 0.18989412\n",
      "Iteration 51, loss = 0.18724810\n",
      "Iteration 52, loss = 0.18434503\n",
      "Iteration 53, loss = 0.18152067\n",
      "Iteration 54, loss = 0.17931602\n",
      "Iteration 55, loss = 0.17655621\n",
      "Iteration 56, loss = 0.17421630\n",
      "Iteration 57, loss = 0.17193011\n",
      "Iteration 58, loss = 0.16941148\n",
      "Iteration 59, loss = 0.16718991\n",
      "Iteration 60, loss = 0.16460068\n",
      "Iteration 61, loss = 0.16219529\n",
      "Iteration 62, loss = 0.15952190\n",
      "Iteration 63, loss = 0.15671686\n",
      "Iteration 64, loss = 0.15401091\n",
      "Iteration 65, loss = 0.15100746\n",
      "Iteration 66, loss = 0.14819236\n",
      "Iteration 67, loss = 0.14520206\n",
      "Iteration 68, loss = 0.14233310\n",
      "Iteration 69, loss = 0.13941961\n",
      "Iteration 70, loss = 0.13654432\n",
      "Iteration 71, loss = 0.13376514\n",
      "Iteration 72, loss = 0.13091639\n",
      "Iteration 73, loss = 0.12822446\n",
      "Iteration 74, loss = 0.12549121\n",
      "Iteration 75, loss = 0.12284400\n",
      "Iteration 76, loss = 0.12020280\n",
      "Iteration 77, loss = 0.11760913\n",
      "Iteration 78, loss = 0.11502263\n",
      "Iteration 79, loss = 0.11246523\n",
      "Iteration 80, loss = 0.10994481\n",
      "Iteration 81, loss = 0.10741266\n",
      "Iteration 82, loss = 0.10495461\n",
      "Iteration 83, loss = 0.10249516\n",
      "Iteration 84, loss = 0.10010198\n",
      "Iteration 85, loss = 0.09773793\n",
      "Iteration 86, loss = 0.09543265\n",
      "Iteration 87, loss = 0.09317455\n",
      "Iteration 88, loss = 0.09096533\n",
      "Iteration 89, loss = 0.08882265\n",
      "Iteration 90, loss = 0.08671514\n",
      "Iteration 91, loss = 0.08467511\n",
      "Iteration 92, loss = 0.08267681\n",
      "Iteration 93, loss = 0.08072970\n",
      "Iteration 94, loss = 0.07879216\n",
      "Iteration 95, loss = 0.07668702\n",
      "Iteration 96, loss = 0.07430127\n",
      "Iteration 97, loss = 0.07268473\n",
      "Iteration 98, loss = 0.07173992\n",
      "Iteration 99, loss = 0.06916445\n",
      "Iteration 100, loss = 0.06816307\n",
      "Iteration 101, loss = 0.06587980\n",
      "Iteration 102, loss = 0.06475017\n",
      "Iteration 103, loss = 0.06291261\n",
      "Iteration 104, loss = 0.06165323\n",
      "Iteration 105, loss = 0.06020028\n",
      "Iteration 106, loss = 0.05864934\n",
      "Iteration 107, loss = 0.05733805\n",
      "Iteration 108, loss = 0.05555110\n",
      "Iteration 109, loss = 0.05434859\n",
      "Iteration 110, loss = 0.05307333\n",
      "Iteration 111, loss = 0.05222168\n",
      "Iteration 112, loss = 0.05116793\n",
      "Iteration 113, loss = 0.05006098\n",
      "Iteration 114, loss = 0.04919577\n",
      "Iteration 115, loss = 0.04809258\n",
      "Iteration 116, loss = 0.04711827\n",
      "Iteration 117, loss = 0.04620138\n",
      "Iteration 118, loss = 0.04513500\n",
      "Iteration 119, loss = 0.04426764\n",
      "Iteration 120, loss = 0.04347138\n",
      "Iteration 121, loss = 0.04271965\n",
      "Iteration 122, loss = 0.04188321\n",
      "Iteration 123, loss = 0.04098733\n",
      "Iteration 124, loss = 0.04020883\n",
      "Iteration 125, loss = 0.03948754\n",
      "Iteration 126, loss = 0.03885122\n",
      "Iteration 127, loss = 0.03817335\n",
      "Iteration 128, loss = 0.03745525\n",
      "Iteration 129, loss = 0.03675595\n",
      "Iteration 130, loss = 0.03608471\n",
      "Iteration 131, loss = 0.03550855\n",
      "Iteration 132, loss = 0.03488012\n",
      "Iteration 133, loss = 0.03427558\n",
      "Iteration 134, loss = 0.03365259\n",
      "Iteration 135, loss = 0.03308128\n",
      "Iteration 136, loss = 0.03255173\n",
      "Iteration 137, loss = 0.03200502\n",
      "Iteration 138, loss = 0.03148047\n",
      "Iteration 139, loss = 0.03093557\n",
      "Iteration 140, loss = 0.03045071\n",
      "Iteration 141, loss = 0.02995069\n",
      "Iteration 142, loss = 0.02948232\n",
      "Iteration 143, loss = 0.02899128\n",
      "Iteration 144, loss = 0.02853324\n",
      "Iteration 145, loss = 0.02807709\n",
      "Iteration 146, loss = 0.02764963\n",
      "Iteration 147, loss = 0.02721077\n",
      "Iteration 148, loss = 0.02679196\n",
      "Iteration 149, loss = 0.02637149\n",
      "Iteration 150, loss = 0.02598007\n",
      "Iteration 151, loss = 0.02557989\n",
      "Iteration 152, loss = 0.02519818\n",
      "Iteration 153, loss = 0.02481093\n",
      "Iteration 154, loss = 0.02444439\n",
      "Iteration 155, loss = 0.02408303\n",
      "Iteration 156, loss = 0.02372624\n",
      "Iteration 157, loss = 0.02337868\n",
      "Iteration 158, loss = 0.02303270\n",
      "Iteration 159, loss = 0.02270374\n",
      "Iteration 160, loss = 0.02237505\n",
      "Iteration 161, loss = 0.02205304\n",
      "Iteration 162, loss = 0.02173931\n",
      "Iteration 163, loss = 0.02142776\n",
      "Iteration 164, loss = 0.02112748\n",
      "Iteration 165, loss = 0.02083085\n",
      "Iteration 166, loss = 0.02053722\n",
      "Iteration 167, loss = 0.02025268\n",
      "Iteration 168, loss = 0.01997202\n",
      "Iteration 169, loss = 0.01969663\n",
      "Iteration 170, loss = 0.01942792\n",
      "Iteration 171, loss = 0.01916185\n",
      "Iteration 172, loss = 0.01890100\n",
      "Iteration 173, loss = 0.01864691\n",
      "Iteration 174, loss = 0.01839611\n",
      "Iteration 175, loss = 0.01814918\n",
      "Iteration 176, loss = 0.01790772\n",
      "Iteration 177, loss = 0.01767021\n",
      "Iteration 178, loss = 0.01743650\n",
      "Iteration 179, loss = 0.01720768\n",
      "Iteration 180, loss = 0.01698272\n",
      "Iteration 181, loss = 0.01676097\n",
      "Iteration 182, loss = 0.01654353\n",
      "Iteration 183, loss = 0.01633044\n",
      "Iteration 184, loss = 0.01612054\n",
      "Iteration 185, loss = 0.01591394\n",
      "Iteration 186, loss = 0.01571129\n",
      "Iteration 187, loss = 0.01551228\n",
      "Iteration 188, loss = 0.01531640\n",
      "Iteration 189, loss = 0.01512379\n",
      "Iteration 190, loss = 0.01493466\n",
      "Iteration 191, loss = 0.01474871\n",
      "Iteration 192, loss = 0.01456576\n",
      "Iteration 193, loss = 0.01438598\n",
      "Iteration 194, loss = 0.01420939\n",
      "Iteration 195, loss = 0.01403568\n",
      "Iteration 196, loss = 0.01386478\n",
      "Iteration 197, loss = 0.01369685\n",
      "Iteration 198, loss = 0.01353185\n",
      "Iteration 199, loss = 0.01336956\n",
      "Iteration 200, loss = 0.01320988\n",
      "('Absolute training score:', 0.93333333333333335)\n",
      "('predictions:', array([0, 0, 0, 1, 1, 0, 0, 1, 0, 0, 1, 1, 1, 1, 1]))\n",
      "('expected:', array([0, 0, 0, 1, 1, 0, 0, 1, 0, 0, 1, 1, 1, 1, 0]))\n"
     ]
    },
    {
     "data": {
      "text/plain": [
       "<matplotlib.image.AxesImage at 0xc097860>"
      ]
     },
     "execution_count": 13,
     "metadata": {},
     "output_type": "execute_result"
    },
    {
     "data": {
      "image/png": "[encoded data removed]",
      "text/plain": [
       "<matplotlib.figure.Figure at 0xbf8bcf8>"
      ]
     },
     "metadata": {},
     "output_type": "display_data"
    }
   ],
   "source": [
    "#5 neurons for the hidden layer, fully connected\n",
    "#activation function: 'relu', but could be 'tanh' as well. Sigmoid function 'logistic' is not working here\n",
    "#verbose = True stands for showing iteration steps\n",
    "mlpnew = MLPClassifier(hidden_layer_sizes=(5,), verbose=True, activation='tanh', \n",
    "                    learning_rate_init = 0.08, random_state=1)\n",
    "#training the model\n",
    "mlpnew.fit(dnew270, tnew)\n",
    "\n",
    "print('Absolute training score:', mlp.score(dnew270, tnew))\n",
    "print('predictions:', mlp.predict(dnew270)) \n",
    "print('expected:', tnew)\n",
    "\n",
    "#Create a 2D mesh and interrogate the trained network\n",
    "PITCH = 0.1\n",
    "x = np.arange(0, 10, PITCH)\n",
    "y = np.arange(0, 10, PITCH)\n",
    "#print(x)\n",
    "crds = np.meshgrid(x, y, sparse=False, indexing='ij')\n",
    "flatX = np.ravel(crds[0])\n",
    "flatY = np.ravel(crds[1])\n",
    "test = np.column_stack((flatX,flatY))\n",
    "plt.imshow(mlpnew.predict(test).reshape((100,100)), origin = 'lower')"
   ]
  },
  {
   "cell_type": "markdown",
   "metadata": {},
   "source": [
    "### Because it eliminates the quest for genericity; it is now *perhaps* trained on this data set (kind of overtraining)!"
   ]
  }
 ],
 "metadata": {
  "kernelspec": {
   "display_name": "Python 3",
   "language": "python",
   "name": "python3"
  },
  "language_info": {
   "codemirror_mode": {
    "name": "ipython",
    "version": 3
   },
   "file_extension": ".py",
   "mimetype": "text/x-python",
   "name": "python",
   "nbconvert_exporter": "python",
   "pygments_lexer": "ipython3",
   "version": "3.7.3"
  }
 },
 "nbformat": 4,
 "nbformat_minor": 2
}
