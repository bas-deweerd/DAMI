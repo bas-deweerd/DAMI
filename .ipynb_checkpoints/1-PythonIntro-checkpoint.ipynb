{
 "cells": [
  {
   "cell_type": "markdown",
   "metadata": {},
   "source": [
    "## Introduction"
   ]
  },
  {
   "cell_type": "markdown",
   "metadata": {},
   "source": [
    "These exercises touch only a very small subset of Python. The reason this subset has been chosen is that:\n",
    "1. It contains basic Python idiom that deviates substantially from what you are used to in languages such as C# and Java.\n",
    "2. We have to be familiar with the idiom in it as we will make extensive use of it in solving data science problems.\n",
    "\n",
    "For help in solving the exercises you can consult this online [Python tutorial](https://docs.python.org/3.4/tutorial/)."
   ]
  },
  {
   "cell_type": "markdown",
   "metadata": {},
   "source": [
    "## String Exercises"
   ]
  },
  {
   "cell_type": "markdown",
   "metadata": {},
   "source": [
    "Besides numbers, Python can also manipulate strings, which can be expressed in several ways. They can be enclosed in single quotes ('...') or double quotes (\"...\") with the same result.\n",
    "\n",
    "``str[start:end:stride]`` slices str from position start to position end taking steps of length stride. Note how the start is always included, and the end always excluded. This makes sure that ``s[:i] + s[i:]`` is always equal to ``s``. Negative strides go backwards through string. ``[:]`` (single colon) refers to all elements of a string. ``[1:]`` is equivalent to \"1 to end\".\n",
    "\n",
    "One way to remember how slices work is to think of the indices as pointing between characters, with the left edge of the first character numbered 0. Then the right edge of the last character of a string of n characters has index n, for example:\n",
    "\n",
    "<pre>\n",
    " +---+---+---+---+---+---+\n",
    " | P | y | t | h | o | n |\n",
    " +---+---+---+---+---+---+\n",
    " 0   1   2   3   4   5   6\n",
    "-6  -5  -4  -3  -2  -1\n",
    "</pre>"
   ]
  },
  {
   "cell_type": "markdown",
   "metadata": {},
   "source": [
    "#### String Indexing"
   ]
  },
  {
   "cell_type": "code",
   "execution_count": 5,
   "metadata": {},
   "outputs": [
    {
     "data": {
      "text/plain": [
       "'Fontys'"
      ]
     },
     "execution_count": 5,
     "metadata": {},
     "output_type": "execute_result"
    }
   ],
   "source": [
    "# Get the substring 'Fontys' from 'Fontys Machine Learning'\n",
    "# or, rephrased: get the first 6 characters from 'Fontys Machine Learning'\n",
    "# tip: use slicing\n",
    "\n",
    "s = 'Fontys Machine Learning'\n",
    "s[:6] #s[0:6]"
   ]
  },
  {
   "cell_type": "code",
   "execution_count": 6,
   "metadata": {},
   "outputs": [
    {
     "data": {
      "text/plain": [
       "'Learning'"
      ]
     },
     "execution_count": 6,
     "metadata": {},
     "output_type": "execute_result"
    }
   ],
   "source": [
    "# Get the substring 'Learning' from 'Fontys Machine Learning'\n",
    "\n",
    "s[-8:]"
   ]
  },
  {
   "cell_type": "code",
   "execution_count": 15,
   "metadata": {},
   "outputs": [
    {
     "data": {
      "text/plain": [
       "True"
      ]
     },
     "execution_count": 15,
     "metadata": {},
     "output_type": "execute_result"
    }
   ],
   "source": [
    "# What is the result of this expression, explain!\n",
    "#a[start:end:step]\n",
    "\n",
    "#'Fontys'[:] = 'Fontys'\n",
    "\n",
    "#len('Fontys') = 6\n",
    "#'Fontys'[0:6:1] = 'Fontys' Positions 0 to 6, with steps of 1.\n",
    "\n",
    "# Both sides of the expression return 'Fontys', so it is true.\n",
    "\n",
    "'Fontys'[:] == 'Fontys'[0:len('Fontys'):1]"
   ]
  },
  {
   "cell_type": "code",
   "execution_count": 19,
   "metadata": {},
   "outputs": [
    {
     "data": {
      "text/plain": [
       "'Bye'"
      ]
     },
     "execution_count": 19,
     "metadata": {},
     "output_type": "execute_result"
    }
   ],
   "source": [
    "# Using slicing, create the string \"Bye' from 'Bicycle' (you have to collect characters at positions 0, 3 and 6)\n",
    "\n",
    "#a[start:end:step]\n",
    "#'Bicycle'[0:7:3]\n",
    "'Bicycle'[::3]"
   ]
  },
  {
   "cell_type": "code",
   "execution_count": 34,
   "metadata": {},
   "outputs": [
    {
     "data": {
      "text/plain": [
       "'sytnoF'"
      ]
     },
     "execution_count": 34,
     "metadata": {},
     "output_type": "execute_result"
    }
   ],
   "source": [
    "# Reverse the string 'Fontys'; both this is more idiomatic and substantially faster\n",
    "\n",
    "'Fontys'[::-1]"
   ]
  },
  {
   "cell_type": "code",
   "execution_count": 41,
   "metadata": {},
   "outputs": [
    {
     "data": {
      "text/plain": [
       "'sytnoF'"
      ]
     },
     "execution_count": 41,
     "metadata": {},
     "output_type": "execute_result"
    }
   ],
   "source": [
    "# Using reversed() seems obvious but is tricky as reverse returns an iterable\n",
    "# in the end it leads to this contrived, though instructive example\n",
    "# Why this complexity?\n",
    "# 1st: reversed() returns an iterable object\n",
    "# 2nd: you can use str.join() to concatenate the strings in an interable\n",
    "\n",
    "x = reversed('Fontys')\n",
    "''.join(x)"
   ]
  },
  {
   "cell_type": "code",
   "execution_count": 43,
   "metadata": {},
   "outputs": [],
   "source": [
    "# now using this reversal idiom: decide if a string is a palindrome\n",
    "\n",
    "testing = 'dad'\n",
    "testing[::-1] == testing[::]"
   ]
  },
  {
   "cell_type": "markdown",
   "metadata": {},
   "source": [
    "#### Create Formatted String Output"
   ]
  },
  {
   "cell_type": "code",
   "execution_count": 8,
   "metadata": {},
   "outputs": [
    {
     "data": {
      "text/plain": [
       "'The DAMI course at FT&L has 15 students!'"
      ]
     },
     "execution_count": 8,
     "metadata": {},
     "output_type": "execute_result"
    }
   ],
   "source": [
    "# Create the string 'The {} course at {} has {} students!' where the placeholders\n",
    "# are substituted with 'DAMI', 'FT&L' and 15\n",
    "\n",
    "'The {} course at {} has {} students!'.format('DAMI', 'FT&L', 15)"
   ]
  },
  {
   "cell_type": "code",
   "execution_count": 9,
   "metadata": {},
   "outputs": [
    {
     "data": {
      "text/plain": [
       "'testtest'"
      ]
     },
     "execution_count": 9,
     "metadata": {},
     "output_type": "execute_result"
    }
   ],
   "source": [
    "'test' + 'test'"
   ]
  },
  {
   "cell_type": "markdown",
   "metadata": {},
   "source": [
    "## List Exercises"
   ]
  },
  {
   "cell_type": "markdown",
   "metadata": {},
   "source": [
    "Python knows a number of compound data types, used to group together other values. The most versatile is the list, which can be written as a list of comma-separated values (items) between square brackets. Lists might contain items of different types, but usually the items all have the same type."
   ]
  },
  {
   "cell_type": "markdown",
   "metadata": {},
   "source": [
    "#### List Creation"
   ]
  },
  {
   "cell_type": "code",
   "execution_count": 45,
   "metadata": {},
   "outputs": [
    {
     "data": {
      "text/plain": [
       "[1, 2, 3]"
      ]
     },
     "execution_count": 45,
     "metadata": {},
     "output_type": "execute_result"
    }
   ],
   "source": [
    "# Create a list of numbers 1,2,3\n",
    "[1,2,3]"
   ]
  },
  {
   "cell_type": "code",
   "execution_count": 48,
   "metadata": {},
   "outputs": [
    {
     "name": "stdout",
     "output_type": "stream",
     "text": [
      "['F', 'o', 'n', 't', 'y', 's']\n"
     ]
    },
    {
     "data": {
      "text/plain": [
       "True"
      ]
     },
     "execution_count": 48,
     "metadata": {},
     "output_type": "execute_result"
    }
   ],
   "source": [
    "# Create a list of (1-character) strings from the string 'Fontys'\n",
    "print(list('Fontys'))\n",
    "\n",
    "# It is worth thinking about why this works: the list class constructor/converter takes an iterable as argument.\n",
    "# A string can be iterated over: You can use a string as collection in a for loop, hence the iterator protocol \n",
    "# has been implemented for string (as you might have expected).\n",
    "\n",
    "# The following list comprehension should therefore also work\n",
    "list('Fontys') == [c for c in 'Fontys']"
   ]
  },
  {
   "cell_type": "code",
   "execution_count": 13,
   "metadata": {},
   "outputs": [
    {
     "data": {
      "text/plain": [
       "[1, [], 'Fontys', ['Fontys', 1]]"
      ]
     },
     "execution_count": 13,
     "metadata": {},
     "output_type": "execute_result"
    }
   ],
   "source": [
    "# Create a list of the objects 1, [], 'Fontys', ['Fontys, 1]\n",
    "[1, [], 'Fontys', ['Fontys', 1]]"
   ]
  },
  {
   "cell_type": "code",
   "execution_count": 49,
   "metadata": {},
   "outputs": [
    {
     "data": {
      "text/plain": [
       "[0, 1, 2, 3, 4, 5, 6, 7, 8, 9, 10, 11, 12, 13, 14, 15, 16, 17, 18, 19]"
      ]
     },
     "execution_count": 49,
     "metadata": {},
     "output_type": "execute_result"
    }
   ],
   "source": [
    "# Create a list for the integers between 0 and 20 ([0..20), or 0 <= n < 20)\n",
    "# Use the range() function, which is actually a type (immutable sequence) that can be iterated over.\n",
    "\n",
    "list(range(0,20))\n",
    "#list(range(0,20,2)) only even numbers"
   ]
  },
  {
   "cell_type": "code",
   "execution_count": 25,
   "metadata": {},
   "outputs": [
    {
     "data": {
      "text/plain": [
       "[11, 12, 13, 14, 15, 16, 17, 18, 19, 20, 21]"
      ]
     },
     "execution_count": 25,
     "metadata": {},
     "output_type": "execute_result"
    }
   ],
   "source": [
    "# Create the integer list [11..21]\n",
    "list(range(11, 22))"
   ]
  },
  {
   "cell_type": "code",
   "execution_count": 53,
   "metadata": {},
   "outputs": [
    {
     "name": "stdout",
     "output_type": "stream",
     "text": [
      "ok\n"
     ]
    }
   ],
   "source": [
    "# Create a list for all even integer numbers between 90 and 100.\n",
    "\n",
    "l = list(range(90,100,2))\n",
    "#l = [n for n in range(90,100) if n%2==0]\n",
    "#l = [n for n in range(90,100,2)]\n",
    "\n",
    "assert l == [90, 92, 94, 96, 98]\n",
    "\n",
    "print('ok')"
   ]
  },
  {
   "cell_type": "code",
   "execution_count": 70,
   "metadata": {},
   "outputs": [
    {
     "name": "stdout",
     "output_type": "stream",
     "text": [
      "[3, 9, 15, 21, 27, 33, 39, 45, 51, 57, 63, 69, 75, 81, 87, 93, 99]\n",
      "ok\n"
     ]
    }
   ],
   "source": [
    "# Create a list of  all integers between 0 and 100 that can be divided by 3 and are uneven\n",
    "\n",
    "l = [n for n in range(0,100) if n%3==0 and n%2!=0] # Must be divisible by 3 and not divisble by 2\n",
    "#l = [n for n in range(0,100,3) if n%2!=0] # Must not be divisble by 2\n",
    "#l = [n for n in range(0,100,3) if n&1 != 0]\n",
    "#l = [n for n in range(0,100) if n%3==0 and n&1!=0]\n",
    "print(l)\n",
    "assert l == [3, 9, 15, 21, 27, 33, 39, 45, 51, 57, 63, 69, 75, 81, 87, 93, 99]\n",
    "print('ok')"
   ]
  },
  {
   "cell_type": "markdown",
   "metadata": {},
   "source": [
    "#### List assignments"
   ]
  },
  {
   "cell_type": "code",
   "execution_count": 75,
   "metadata": {},
   "outputs": [
    {
     "name": "stdout",
     "output_type": "stream",
     "text": [
      "1\n"
     ]
    }
   ],
   "source": [
    "lst = [1,2]\n",
    "\n",
    "a,b = lst\n",
    "\n",
    "a = 5\n",
    "\n",
    "print(lst[0])"
   ]
  },
  {
   "cell_type": "code",
   "execution_count": 16,
   "metadata": {},
   "outputs": [
    {
     "name": "stdout",
     "output_type": "stream",
     "text": [
      "[[1], [2], [3]]\n",
      "[[1], [2], [3]]\n",
      "[[1], [2], [3]]\n",
      "[1]\n",
      "[3]\n"
     ]
    },
    {
     "data": {
      "text/plain": [
       "[[5], [6], [3]]"
      ]
     },
     "execution_count": 16,
     "metadata": {},
     "output_type": "execute_result"
    }
   ],
   "source": [
    "# Suppose the following list of lists\n",
    "lst = [[1],[2], [3]]\n",
    "lst2 = lst                 # this is a reference copy\n",
    "lst3 = lst[:]              # this is a shallow copy\n",
    "\n",
    "# Assign to named variables using sequence unpacking\n",
    "item, _, _ = lst\n",
    "\n",
    "print(lst)\n",
    "print(lst2)\n",
    "print(lst3)\n",
    "print(item)\n",
    "print(_)\n",
    "\n",
    "item[0] = 5\n",
    "lst2[1] = [6]\n",
    "lst3[2] = [7]\n",
    "\n",
    "lst"
   ]
  },
  {
   "cell_type": "markdown",
   "metadata": {},
   "source": [
    "#### List Indexing and Slicing"
   ]
  },
  {
   "cell_type": "code",
   "execution_count": 33,
   "metadata": {},
   "outputs": [
    {
     "name": "stdout",
     "output_type": "stream",
     "text": [
      "1 [1,2,3,4][:] =\t [1, 2, 3, 4]\n",
      "2 [1,2,3,4][1:] =\t [2, 3, 4]\n",
      "3 [1,2,3,4][:1] =\t [1]\n",
      "4 [1,2,3,4][:-1] =\t [1, 2, 3]\n",
      "5 [1,2,3,4][0:4] =\t [1, 2, 3, 4]\n",
      "6 [1,2,3,4][0:4] =\t [1, 2, 3, 4]\n",
      "7 [1,2,3,4][1::-1] =\t [2, 1]\n",
      "8 [1,2,3,4][1::-3] =\t [2]\n",
      "9 [1,2,3,4][:] =\t [1, 2, 3, 4]\n",
      "10 [1,2,3,4][::] =\t [1, 2, 3, 4]\n",
      "11 [1,2,3,4][::1] =\t [1, 2, 3, 4]\n",
      "12 [1,2,3,4][::-1] =\t [4, 3, 2, 1]\n",
      "13 [1,2,3,4][0:4:-1] =\t []\n"
     ]
    }
   ],
   "source": [
    "# First some examples. Always remember:\n",
    "# - the list (sequence) is always traversed (processed) left to right\n",
    "# - the first index specifies the first item you want in your slice\n",
    "# - the second index specifies the first item you don’t want in your slice\n",
    "# - the third slice index is the stride length with which you step through the list to pick the elements of your slice\n",
    "\n",
    "print( 1, '[1,2,3,4][:] =\\t', [1,2,3,4][:])\n",
    "print( 2, '[1,2,3,4][1:] =\\t', [1,2,3,4][1:])\n",
    "print( 3, '[1,2,3,4][:1] =\\t', [1,2,3,4][:1])\n",
    "print( 4, '[1,2,3,4][:-1] =\\t', [1,2,3,4][:-1])\n",
    "print( 5, '[1,2,3,4][0:4] =\\t', [1,2,3,4][0:4])\n",
    "print( 6, '[1,2,3,4][0:4] =\\t', [1,2,3,4][0:4])\n",
    "print( 7, '[1,2,3,4][1::-1] =\\t', [1,2,3,4][1::-1])\n",
    "print( 8, '[1,2,3,4][1::-3] =\\t', [1,2,3,4][1::-3])\n",
    "print( 9, '[1,2,3,4][:] =\\t', [1,2,3,4][:])\n",
    "print(10, '[1,2,3,4][::] =\\t', [1,2,3,4][::])        # often used to make a complete (shallow) copy of the list\n",
    "print(11, '[1,2,3,4][::1] =\\t', [1,2,3,4][::1])\n",
    "print(12, '[1,2,3,4][::-1] =\\t', [1,2,3,4][::-1])      # often used to make a reversed copy of the list\n",
    "print(13, '[1,2,3,4][0:4:-1] =\\t', [1,2,3,4][0:4:-1])    # if stride is negative, start < stop == True"
   ]
  },
  {
   "cell_type": "code",
   "execution_count": 82,
   "metadata": {},
   "outputs": [
    {
     "name": "stdout",
     "output_type": "stream",
     "text": [
      "[1, 4]\n",
      "ok\n"
     ]
    }
   ],
   "source": [
    "# Get list [1,4] from list [1,2,3,4]\n",
    "\n",
    "l = [1,2,3,4]\n",
    "l = l[::3] #l[0:4:3]\n",
    "\n",
    "print(l)\n",
    "\n",
    "# l = <your code goes here>\n",
    "assert l == [1,4]\n",
    "print('ok')"
   ]
  },
  {
   "cell_type": "code",
   "execution_count": 50,
   "metadata": {},
   "outputs": [
    {
     "name": "stdout",
     "output_type": "stream",
     "text": [
      "1 3\n"
     ]
    }
   ],
   "source": [
    "# Get first and last element of any list in variables first and last\n",
    "l = [1,2,3]\n",
    "\n",
    "first, last =  l[0], l[-1]   # implicit tuple creation and unpacking\n",
    "\n",
    "print(first, last)"
   ]
  },
  {
   "cell_type": "markdown",
   "metadata": {},
   "source": [
    "#### List and String"
   ]
  },
  {
   "cell_type": "code",
   "execution_count": 86,
   "metadata": {},
   "outputs": [
    {
     "name": "stdout",
     "output_type": "stream",
     "text": [
      "ads\n"
     ]
    }
   ],
   "source": [
    "# Create the string 'ads' from list ['a', 'd', 's']\n",
    "\n",
    "l = ['a','d','s']\n",
    "\n",
    "#result = l[0] + l[1] + l[2]\n",
    "result.join(l);\n",
    "\n",
    "print(result)"
   ]
  },
  {
   "cell_type": "code",
   "execution_count": 55,
   "metadata": {},
   "outputs": [
    {
     "data": {
      "text/plain": [
       "True"
      ]
     },
     "execution_count": 55,
     "metadata": {},
     "output_type": "execute_result"
    }
   ],
   "source": [
    "# Why does str(['a', 'd', 's']) not work in previous exercise?\n",
    "# Answer: str() serializes each of its parameters, creating: \"['a', 'd', 's']\"\n",
    "\n",
    "str(['a', 'd', 's']) == ['a', 'd', 's'].__str__()"
   ]
  },
  {
   "cell_type": "code",
   "execution_count": 91,
   "metadata": {},
   "outputs": [
    {
     "name": "stdout",
     "output_type": "stream",
     "text": [
      "a d s\n",
      "a d s \n"
     ]
    }
   ],
   "source": [
    "# Create the string 'a d s' from string 'ads'\n",
    "\n",
    "input = 'ads'\n",
    "\n",
    "result = input[0] + \" \" + input[1] + \" \" + input[2]\n",
    "print(result);\n",
    "\n",
    "spaces = '   '\n",
    "print(\"\".join(i + j for i, j in zip(input, spaces)))"
   ]
  },
  {
   "cell_type": "code",
   "execution_count": 95,
   "metadata": {},
   "outputs": [
    {
     "name": "stdout",
     "output_type": "stream",
     "text": [
      "123\n"
     ]
    }
   ],
   "source": [
    "# Create the string '123' from list [1,2,3]\n",
    "# Try: ''.join([1,2,3]); why does it not work?\n",
    "# Type error: expected str instance, int found\n",
    "\n",
    "# Tip: use a generator (generalization of comprehension) to first\n",
    "# coerce the integer list elements into characters\n",
    "\n",
    "l = [1,2,3];\n",
    "result = str(l[0]) + str(l[1]) + str(l[2])\n",
    "print(result);"
   ]
  },
  {
   "cell_type": "code",
   "execution_count": 122,
   "metadata": {},
   "outputs": [
    {
     "name": "stdout",
     "output_type": "stream",
     "text": [
      "123\n"
     ]
    }
   ],
   "source": [
    "# solve previous problem using the map() function\n",
    "\n",
    "iterable = map(str, l)\n",
    "print(''.join(iterable))\n",
    "\n",
    "#for c in iterable: print(c, end='') # replaces \\n with ''"
   ]
  },
  {
   "cell_type": "code",
   "execution_count": 124,
   "metadata": {},
   "outputs": [
    {
     "data": {
      "text/plain": [
       "[1, 2, 3]"
      ]
     },
     "execution_count": 124,
     "metadata": {},
     "output_type": "execute_result"
    }
   ],
   "source": [
    "# Create the (integer) list [1,2,3] from string '123'\n",
    "\n",
    "input = '123'\n",
    "[int(c) for c in input]\n",
    "#list([int(input[0]), int(input[1]), int(input[2])])"
   ]
  },
  {
   "cell_type": "markdown",
   "metadata": {},
   "source": [
    "The method ``split(str,num)`` returns a list of all the words in the string, using ``str`` as the separator (splits on all whitespace if left unspecified), optionally limiting the number of splits to ``num``."
   ]
  },
  {
   "cell_type": "code",
   "execution_count": 126,
   "metadata": {},
   "outputs": [
    {
     "data": {
      "text/plain": [
       "['a', 'd', 's']"
      ]
     },
     "execution_count": 126,
     "metadata": {},
     "output_type": "execute_result"
    }
   ],
   "source": [
    "# Create the list ['a', 'd', 's'] from 'a d s' with split()\n",
    "input = 'a d s'\n",
    "\n",
    "input.split(' ')"
   ]
  },
  {
   "cell_type": "markdown",
   "metadata": {},
   "source": [
    "List comprehensions provide a concise way to create lists. Common applications are to make new lists where each element is the result of some operations applied to each member of another sequence or iterable, or to create a subsequence of those elements that satisfy a certain condition.\n",
    "\n",
    "For example, assume we want to create a list of squares, like:\n",
    "\n",
    "<pre>\n",
    ">>>squares = []\n",
    ">>>for x in range(10):\n",
    "...   squares.append(x**2)\n",
    "...\n",
    ">>>squares\n",
    "[0, 1, 4, 9, 16, 25, 36, 49, 64, 81]\n",
    "</pre>\n",
    "\n",
    "Note that this creates (or overwrites) a variable named x that still exists after the loop completes. We can calculate the list of squares without any side effects using:\n",
    "\n",
    "<pre>\n",
    "squares = [x**2 for x in range(10)]\n",
    "</pre>"
   ]
  },
  {
   "cell_type": "code",
   "execution_count": 135,
   "metadata": {},
   "outputs": [
    {
     "name": "stdout",
     "output_type": "stream",
     "text": [
      "['a', 'd', 's']\n"
     ]
    }
   ],
   "source": [
    "# Or with list comprehension\n",
    "input = 'a d s'\n",
    "\n",
    "#print(list(input)[::2])\n",
    "result = []\n",
    "for x in input: \n",
    "    if(x!= ' '): result.append(x)  \n",
    "print(result)"
   ]
  },
  {
   "cell_type": "code",
   "execution_count": 140,
   "metadata": {},
   "outputs": [
    {
     "data": {
      "text/plain": [
       "True"
      ]
     },
     "execution_count": 140,
     "metadata": {},
     "output_type": "execute_result"
    }
   ],
   "source": [
    "# Create a function is_palindrome() that returns if a sentence (ignoring blanks, character case and punctuation) is a \n",
    "# palindrome, e.g is_palindrome('A man, a plan, a canal, Panama') == True\n",
    "# note that the s == s[-1] we saw before, won't work\n",
    "\n",
    "def is_palindrome(s):\n",
    "    formattedString = \"\"\n",
    "    for x in s:\n",
    "        if x != ',' and x != ' ':\n",
    "            formattedString += x\n",
    "        \n",
    "    formattedString = formattedString.lower();\n",
    "    reverse = formattedString[::-1]\n",
    "    \n",
    "    return formattedString==reverse;\n",
    "    \n",
    "is_palindrome('A man, a plan, a canal, Panama')"
   ]
  },
  {
   "cell_type": "code",
   "execution_count": 160,
   "metadata": {},
   "outputs": [
    {
     "name": "stdout",
     "output_type": "stream",
     "text": [
      "ok\n"
     ]
    }
   ],
   "source": [
    "def last_word_length(text):\n",
    "    words = text.split(' ')\n",
    "    iterator = [x for x in words if x] #removes space entries\n",
    "    if not iterator: #empty\n",
    "        return 0\n",
    "    else:\n",
    "        return len(iterator[-1])\n",
    "    \n",
    "last_word_length(\"last   \")\n",
    "assert last_word_length('') == 0\n",
    "assert last_word_length('last   ') == 4\n",
    "assert last_word_length('Learn machine learning at Fontys Venlo') == 5\n",
    "print('ok')"
   ]
  },
  {
   "cell_type": "markdown",
   "metadata": {},
   "source": [
    "## Tuple Exercises"
   ]
  },
  {
   "cell_type": "markdown",
   "metadata": {},
   "source": [
    "We saw that lists and strings have many common properties, such as indexing and slicing operations. They are two examples of sequence data types. Since Python is an evolving language, other sequence data types may be added. There is also another standard sequence data type: the tuple.\n",
    "\n",
    "A tuple consists of a number of values separated by commas."
   ]
  },
  {
   "cell_type": "code",
   "execution_count": 86,
   "metadata": {},
   "outputs": [
    {
     "name": "stdout",
     "output_type": "stream",
     "text": [
      "[(1, 2), (3, 4)]\n",
      "[]\n",
      "[]\n",
      "[(1, 2)]\n",
      "[(1, 2), (3, 4)]\n"
     ]
    }
   ],
   "source": [
    "# Create the list of tuples [(1, 2), (3, 4)] from [1, 2, 3, 4]\n",
    "l = [1, 2, 3, 4]\n",
    "\n",
    "# the non-idiomatic way would be:\n",
    "l1 = []\n",
    "for i in range(0, len(l)-1, 2):\n",
    "    l1.append((l[i], l[i+1]))\n",
    "print(l1)\n",
    "assert l1 == [(1, 2), (3, 4)]\n",
    "\n",
    "# Use additional asserts to test what happens if l is the empty list, has 1, 2 or any uneven number of elements\n",
    "l = []\n",
    "l1 = []\n",
    "for i in range(0, len(l)-1, 2):\n",
    "    l1.append((l[i], l[i+1]))\n",
    "print(l1)\n",
    "\n",
    "l = [1]\n",
    "l1 = []\n",
    "for i in range(0, len(l)-1, 2):\n",
    "    l1.append((l[i], l[i+1]))\n",
    "print(l1)\n",
    "\n",
    "l = [1, 2]\n",
    "l1 = []\n",
    "for i in range(0, len(l)-1, 2):\n",
    "    l1.append((l[i], l[i+1]))\n",
    "print(l1)\n",
    "\n",
    "l = [1, 2, 3, 4, 5]\n",
    "l1 = []\n",
    "for i in range(0, len(l)-1, 2):\n",
    "    l1.append((l[i], l[i+1]))\n",
    "print(l1)"
   ]
  },
  {
   "cell_type": "code",
   "execution_count": 77,
   "metadata": {},
   "outputs": [
    {
     "name": "stdout",
     "output_type": "stream",
     "text": [
      "ok\n"
     ]
    }
   ],
   "source": [
    "# Create the list of tuples the idiomatic way, using list comprehension\n",
    "l = [1, 2, 3, 4]\n",
    "#l1 = list()\n",
    "#for x in range(0, len(l)-1, 2):\n",
    "#    l1.append((l[x], l[x+1]))\n",
    "\n",
    "l1 = [(x, x+1) for x in range(1,4,2)]\n",
    "    \n",
    "assert l1 == [(1, 2), (3, 4)]\n",
    "print('ok')"
   ]
  },
  {
   "cell_type": "code",
   "execution_count": 21,
   "metadata": {},
   "outputs": [
    {
     "name": "stdout",
     "output_type": "stream",
     "text": [
      "[(1, 2), (3, 4)]\n",
      "ok\n"
     ]
    }
   ],
   "source": [
    "# Now, create the same list of tuples using zip()\n",
    "x = (1,3)\n",
    "y = (2,4)\n",
    "zipper = zip(x,y)\n",
    "l1 = list(zipper)\n",
    "\n",
    "print(l1)\n",
    "\n",
    "assert l1 == [(1, 2), (3, 4)]\n",
    "print('ok')"
   ]
  },
  {
   "cell_type": "code",
   "execution_count": 167,
   "metadata": {},
   "outputs": [
    {
     "name": "stdout",
     "output_type": "stream",
     "text": [
      "ok\n"
     ]
    }
   ],
   "source": [
    "# Flatten the list of tuples [(1, 2), (3, 4)] to [1, 2, 3, 4]\n",
    "lt = [(1, 2), (3, 4)]\n",
    "\n",
    "# With a loop\n",
    "l1 = list()\n",
    "for tuple in lt:\n",
    "    l1.append(tuple[0])\n",
    "    l1.append(tuple[1])\n",
    "\n",
    "#l1 =lt[0] + lt[1]\n",
    "#l1 = list(l1)\n",
    "\n",
    "assert l1 == [1, 2, 3, 4]\n",
    "print('ok')"
   ]
  },
  {
   "cell_type": "code",
   "execution_count": 168,
   "metadata": {},
   "outputs": [
    {
     "name": "stdout",
     "output_type": "stream",
     "text": [
      "ok\n"
     ]
    }
   ],
   "source": [
    "# With list comprehension\n",
    "#l1 = [i for i in range(5) if i > 0]\n",
    "l1 = lt[0]+lt[1]\n",
    "l1 = list(l1)\n",
    "\n",
    "assert l1 == [1, 2, 3, 4]\n",
    "print('ok')"
   ]
  },
  {
   "cell_type": "code",
   "execution_count": 177,
   "metadata": {},
   "outputs": [
    {
     "name": "stdout",
     "output_type": "stream",
     "text": [
      "(1, 2, 3, 4)\n"
     ]
    }
   ],
   "source": [
    "# Explain (by consulting the ref manual) why this also works\n",
    "\n",
    "# Sums start and the items of an iterable from left to right and returns the total.\n",
    "# The iterable’s items are normally numbers, and the start value is not allowed to be a string.\n",
    "lt = [(1, 2), (3, 4)]\n",
    "list(sum(lt, ()))\n",
    "print(sum(lt,())) # Creates one tuple from two tuples in the list and one additional empty tuple.\n",
    "# sum of two tuples "
   ]
  },
  {
   "cell_type": "markdown",
   "metadata": {},
   "source": [
    "This works because _I don't know. Reference manual is unclear._"
   ]
  },
  {
   "cell_type": "code",
   "execution_count": 184,
   "metadata": {},
   "outputs": [
    {
     "name": "stdout",
     "output_type": "stream",
     "text": [
      "ok\n"
     ]
    }
   ],
   "source": [
    "# Now stretch this and sum all numbers in lt\n",
    "# make use of function sum() and the fact that it is an overload function:\n",
    "# sum() has different meanings for numbers and for lists! See ?sum\n",
    "lt = [(1, 2), (3, 4)]\n",
    "l1 =lt[0]+lt[1]\n",
    "n=sum(l1)\n",
    "assert n == 10\n",
    "print('ok')"
   ]
  },
  {
   "cell_type": "code",
   "execution_count": 193,
   "metadata": {},
   "outputs": [
    {
     "name": "stdout",
     "output_type": "stream",
     "text": [
      "(1, 2, 3, 4) ('a', 'b', 'c', 'd')\n"
     ]
    }
   ],
   "source": [
    "L1 = (1, 2, 3, 4)\n",
    "L2 = ('a', 'b', 'c', 'd')\n",
    "z = zip(L1, L2)\n",
    "x, y = zip(*z)\n",
    "print(x, y)"
   ]
  },
  {
   "cell_type": "code",
   "execution_count": 194,
   "metadata": {},
   "outputs": [
    {
     "name": "stdout",
     "output_type": "stream",
     "text": [
      "('a', 0) ('a', 1) ('b', 0) ('b', 1)\n"
     ]
    }
   ],
   "source": [
    "from itertools import product\n",
    "p = product('ab', range(2))\n",
    "print(*p)"
   ]
  },
  {
   "cell_type": "code",
   "execution_count": 182,
   "metadata": {},
   "outputs": [
    {
     "data": {
      "text/plain": [
       "[(0, 0), (0, 1), (0, 2), (1, 0), (1, 1), (1, 2)]"
      ]
     },
     "execution_count": 182,
     "metadata": {},
     "output_type": "execute_result"
    }
   ],
   "source": [
    "[(i, j) for i in range(2) for j in range(3)]"
   ]
  },
  {
   "cell_type": "code",
   "execution_count": 192,
   "metadata": {},
   "outputs": [
    {
     "data": {
      "text/plain": [
       "{0, 1, 2, 3, 4}"
      ]
     },
     "execution_count": 192,
     "metadata": {},
     "output_type": "execute_result"
    }
   ],
   "source": [
    "{a % 5 for a in range(1000)}"
   ]
  },
  {
   "cell_type": "code",
   "execution_count": 193,
   "metadata": {},
   "outputs": [
    {
     "data": {
      "text/plain": [
       "{0: 0, 1: 1, 4: 8, 9: 27, 16: 64, 25: 125}"
      ]
     },
     "execution_count": 193,
     "metadata": {},
     "output_type": "execute_result"
    }
   ],
   "source": [
    "{n**2:n**3 for n in range(6)}"
   ]
  },
  {
   "cell_type": "code",
   "execution_count": 218,
   "metadata": {},
   "outputs": [
    {
     "data": {
      "text/plain": [
       "set()"
      ]
     },
     "execution_count": 218,
     "metadata": {},
     "output_type": "execute_result"
    }
   ],
   "source": [
    "set()"
   ]
  },
  {
   "cell_type": "code",
   "execution_count": 91,
   "metadata": {},
   "outputs": [
    {
     "data": {
      "text/plain": [
       "['lgh', 'fontys.nl']"
      ]
     },
     "execution_count": 91,
     "metadata": {},
     "output_type": "execute_result"
    }
   ],
   "source": [
    "'lgh@fontys.nl'.split('@')"
   ]
  },
  {
   "cell_type": "code",
   "execution_count": 96,
   "metadata": {},
   "outputs": [
    {
     "data": {
      "text/plain": [
       "'lgh(at)fontys.nl'"
      ]
     },
     "execution_count": 96,
     "metadata": {},
     "output_type": "execute_result"
    }
   ],
   "source": [
    "# Split mail address lgh@fontys.nl in user name (lgh) and domain\n",
    "# using a format string specifier, create the string 'lgh(at)fontys.nl' from addr\n",
    "# you could use the parameter unpacking operator *\n",
    "addr = 'lgh@fontys.nl'\n",
    "'{}(at){}'.format(*addr.split('@'))"
   ]
  },
  {
   "cell_type": "markdown",
   "metadata": {},
   "source": [
    "## List as Matrix Exercises"
   ]
  },
  {
   "cell_type": "markdown",
   "metadata": {
    "collapsed": true
   },
   "source": [
    "A matrix constructed from lists is a list of lists"
   ]
  },
  {
   "cell_type": "code",
   "execution_count": 195,
   "metadata": {},
   "outputs": [
    {
     "name": "stdout",
     "output_type": "stream",
     "text": [
      "[[6, 'P'], [4, 'F'], [7, 'P']]\n"
     ]
    }
   ],
   "source": [
    "# Add a P(ass), F(ail) mark to a list of numeric marks\n",
    "# transform [6,4,7] into the matrix [[6,'P'], [4,'F'], [7,'P']]\n",
    "\n",
    "marks = [6, 4, 7]\n",
    "\n",
    "# With a for loop\n",
    "l = []\n",
    "for m in marks:\n",
    "    l.append([m, 'P' if m > 5 else 'F'])\n",
    "print(l)"
   ]
  },
  {
   "cell_type": "code",
   "execution_count": 98,
   "metadata": {},
   "outputs": [
    {
     "data": {
      "text/plain": [
       "[[6, 'P'], [4, 'F'], [7, 'P']]"
      ]
     },
     "execution_count": 98,
     "metadata": {},
     "output_type": "execute_result"
    }
   ],
   "source": [
    "# With list comprehension (more idiomatic)\n",
    "[[m, 'P' if m > 5 else 'F'] for m in marks]"
   ]
  },
  {
   "cell_type": "code",
   "execution_count": 3,
   "metadata": {},
   "outputs": [
    {
     "data": {
      "text/plain": [
       "[[1, 4], [2, 5], [3, 6]]"
      ]
     },
     "execution_count": 3,
     "metadata": {},
     "output_type": "execute_result"
    }
   ],
   "source": [
    "# Transpose the 2 x 3 matrix [[1,2,3], [4,5,6]] to the 3 x 2 matrix [[1,4], [2,5], [3,6]]\n",
    "# Generalize to transposing n x m matrix to m x n matrix; a straightforward list traversal solution would be nested \n",
    "# for loops\n",
    "\n",
    "mx = [[1,2,3], [4,5,6]]\n",
    "rl = []\n",
    "for i in range(len(mx[0])):\n",
    "    rll = []\n",
    "    for l in mx:\n",
    "        rll.append(l[i])\n",
    "    rl.append(rll)\n",
    "rl"
   ]
  },
  {
   "cell_type": "code",
   "execution_count": 99,
   "metadata": {},
   "outputs": [
    {
     "data": {
      "text/plain": [
       "[[1, 4], [2, 5], [3, 6]]"
      ]
     },
     "execution_count": 99,
     "metadata": {},
     "output_type": "execute_result"
    }
   ],
   "source": [
    "# We can morph this nested for loop solution into the more pythonic nested list comprehension solution:\n",
    "\n",
    "mx = [[1,2,3], [4,5,6]]\n",
    "[[l[i] for l in mx] for i in range(len(mx[0]))]"
   ]
  },
  {
   "cell_type": "code",
   "execution_count": 200,
   "metadata": {},
   "outputs": [
    {
     "name": "stdout",
     "output_type": "stream",
     "text": [
      "[(1, 4), (2, 5), (3, 6)]\n"
     ]
    }
   ],
   "source": [
    "# But the seasoned python pro will probably use zip and the unary unpack (*) operator (https://goo.gl/bHWS2S)\n",
    "# on top of that: the zip() solution is faster\n",
    "\n",
    "mx = [[1,2,3], [4,5,6]]\n",
    "a, b, c = zip(*mx)\n",
    "print([a,b,c])\n",
    "\n",
    "\n",
    "#[list(a) for a in zip(mx[0],mx[1])]"
   ]
  },
  {
   "cell_type": "code",
   "execution_count": 160,
   "metadata": {},
   "outputs": [
    {
     "data": {
      "text/plain": [
       "array([[1, 3],\n",
       "       [2, 4]])"
      ]
     },
     "execution_count": 160,
     "metadata": {},
     "output_type": "execute_result"
    }
   ],
   "source": [
    "# Sneak preview for next week, the easy way with numpy!!\n",
    "import numpy as np\n",
    "a = np.array([[1, 2], [3, 4]])\n",
    "a.transpose()      # a.T also works!"
   ]
  },
  {
   "cell_type": "markdown",
   "metadata": {},
   "source": [
    "## Dictionary Exercises"
   ]
  },
  {
   "cell_type": "code",
   "execution_count": 202,
   "metadata": {},
   "outputs": [
    {
     "data": {
      "text/plain": [
       "{'k1': [1], 'k2': 3, 'k3': [3], 'k4': [4]}"
      ]
     },
     "execution_count": 202,
     "metadata": {},
     "output_type": "execute_result"
    }
   ],
   "source": [
    "# You all know dictionaries (associative arrays) from C# and Java; here is how you define them in Python\n",
    "\n",
    "d = {'k1': [1], 'k2': [2], 'k3': [3]}\n",
    "d['k2'] = 3\n",
    "d['k4'] = [4]    # you can dynamically add to the dict\n",
    "\n",
    "d"
   ]
  },
  {
   "cell_type": "code",
   "execution_count": 162,
   "metadata": {},
   "outputs": [
    {
     "data": {
      "text/plain": [
       "{'k1': [1], 'k2': [2], 'k3': [3]}"
      ]
     },
     "execution_count": 162,
     "metadata": {},
     "output_type": "execute_result"
    }
   ],
   "source": [
    "# Or:\n",
    "keys = ['k1','k2','k3']\n",
    "values = [[1],[2],[3]]\n",
    "dict(zip(keys, values))    # zip() returns iterable of tuples that can be converted into dictionary"
   ]
  },
  {
   "cell_type": "code",
   "execution_count": 163,
   "metadata": {},
   "outputs": [
    {
     "data": {
      "text/plain": [
       "{'k1': [1], 'k2': [2], 'k3': [3]}"
      ]
     },
     "execution_count": 163,
     "metadata": {},
     "output_type": "execute_result"
    }
   ],
   "source": [
    "# Or, using dict comprehension\n",
    "{k: v for k, v in zip(keys, values)}"
   ]
  },
  {
   "cell_type": "code",
   "execution_count": 164,
   "metadata": {},
   "outputs": [
    {
     "data": {
      "text/plain": [
       "{'k1': [3], 'k2': [3], 'k3': [3]}"
      ]
     },
     "execution_count": 164,
     "metadata": {},
     "output_type": "execute_result"
    }
   ],
   "source": [
    "# You might be tempted to do {k: v for k in keys for v in values}\n",
    "# Why doesn't this work?\n",
    "keys = ['k1','k2','k3']\n",
    "values = [[1],[2],[3]]\n",
    "{k: v for k in keys for v in values}"
   ]
  },
  {
   "cell_type": "markdown",
   "metadata": {},
   "source": [
    "This gave the wrong result because _the inner loop is executed 3 times, always ending in the third element and overwriting the previous elements_"
   ]
  },
  {
   "cell_type": "code",
   "execution_count": 204,
   "metadata": {},
   "outputs": [
    {
     "name": "stdout",
     "output_type": "stream",
     "text": [
      "ok\n"
     ]
    }
   ],
   "source": [
    "# Create a Python function that returns a word count dictionary for a piece of text\n",
    "# e.g. count_words(\"This and this and this also\") == {'this': 3, 'and': 2, 'also': 1}\n",
    "\n",
    "def count_words(s):\n",
    "    d = {}\n",
    "    s = s.lower()\n",
    "    s = s.split(' ')\n",
    "    keys = []\n",
    "    \n",
    "    for word in s:\n",
    "        if(word not in keys):\n",
    "            d[word] = 1\n",
    "            keys.append(word)\n",
    "        else:\n",
    "            d[word] += 1\n",
    "    \n",
    "    return d\n",
    "\n",
    "d = count_words(\"This and this and this also\")\n",
    "\n",
    "assert d == {'this': 3, 'and': 2, 'also': 1}\n",
    "print('ok')"
   ]
  },
  {
   "cell_type": "code",
   "execution_count": 214,
   "metadata": {},
   "outputs": [
    {
     "name": "stdout",
     "output_type": "stream",
     "text": [
      "ok\n"
     ]
    }
   ],
   "source": [
    "# Now solve the same problem using the built-in Counter() function\n",
    "from collections import Counter\n",
    "\n",
    "s = 'This and this and this also'\n",
    "s = s.lower()\n",
    "s = s.split(' ')\n",
    "\n",
    "cnt = Counter()\n",
    "for word in s:\n",
    "    cnt[word] += 1\n",
    "d = cnt\n",
    "assert d == {'this': 3, 'and': 2, 'also': 1}\n",
    "print('ok')"
   ]
  }
 ],
 "metadata": {
  "kernelspec": {
   "display_name": "Python 3",
   "language": "python",
   "name": "python3"
  },
  "language_info": {
   "codemirror_mode": {
    "name": "ipython",
    "version": 3
   },
   "file_extension": ".py",
   "mimetype": "text/x-python",
   "name": "python",
   "nbconvert_exporter": "python",
   "pygments_lexer": "ipython3",
   "version": "3.6.1"
  }
 },
 "nbformat": 4,
 "nbformat_minor": 1
}
